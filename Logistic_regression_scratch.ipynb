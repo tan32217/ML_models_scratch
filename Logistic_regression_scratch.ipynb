{
  "nbformat": 4,
  "nbformat_minor": 0,
  "metadata": {
    "colab": {
      "provenance": []
    },
    "kernelspec": {
      "name": "python3",
      "display_name": "Python 3"
    },
    "language_info": {
      "name": "python"
    }
  },
  "cells": [
    {
      "cell_type": "code",
      "execution_count": 10,
      "metadata": {
        "id": "pCPkDh4vVZKP"
      },
      "outputs": [],
      "source": [
        "import random\n",
        "import numpy as np\n",
        "\n",
        "def logistic_regression(x,y,iterations=100,learning_rate=0.01):\n",
        "  m,n = len(x),len(x[0])\n",
        "\n",
        "  beta_0, beta_other = initialize_params(n)\n",
        "  for _ in range(iterations):\n",
        "    gradient_beta_0, gradient_beta_other = compute_gradient(x,y,beta_0,beta_other,m,n)\n",
        "    beta_0, beta_other = update_params(beta_0,beta_other,gradient_beta_0,gradient_beta_other,learning_rate)\n",
        "\n",
        "  return beta_0,beta_other\n",
        "\n",
        "def initialize_params(n):\n",
        "  beta_0= 0\n",
        "  beta_other = [random.random() for _ in range(n)]\n",
        "\n",
        "  return beta_0, beta_other\n",
        "\n",
        "\n",
        "def compute_gradient(x,y,beta_0,beta_other,m,n):\n",
        "  gradient_beta_0 = 0\n",
        "  gradient_beta_other = [0]*n\n",
        "\n",
        "  for i,point in enumerate(x):\n",
        "    pred = logistic_function(point,beta_0,beta_other)\n",
        "\n",
        "    for j, feature in enumerate(point):\n",
        "      gradient_beta_other[j] += (pred - y[i]) * feature/m\n",
        "    gradient_beta_0 += (pred-y[i])/m\n",
        "\n",
        "  return gradient_beta_0,gradient_beta_other\n",
        "\n",
        "def logistic_function(point,beta_0,beta_other):\n",
        "  return 1/(1 + np.exp(-(np.dot(point, beta_other) + beta_0)))\n",
        "\n",
        "\n",
        "def update_params(beta_0,beta_other,gradient_beta_0,gradient_beta_other,learning_rate):\n",
        "  beta_0 -= gradient_beta_0 * learning_rate\n",
        "\n",
        "  for i in range(len(beta_other)):\n",
        "    beta_other[i] -= gradient_beta_other[i] * learning_rate\n",
        "\n",
        "  return beta_0,beta_other\n"
      ]
    },
    {
      "cell_type": "code",
      "source": [
        "# mini batch gradient descent\n",
        "def compute_gradient_minibatch(x,y,beta_0,beta_other,m,n,batch_size):\n",
        "  gradient_beta_0 = 0\n",
        "  gradient_beta_other = [0]*n\n",
        "\n",
        "  for _ in range(batch_size):\n",
        "    i = random.randint(0,m-1)\n",
        "    point = x[i]\n",
        "    pred = logistic_function(point,beta_0,beta_other)\n",
        "    for j,feature in enumerate(point):\n",
        "      gradient_beta_other[j] += (pred-y[i]) * feature/batch_size\n",
        "    gradient_beta_0 += (pred - y[i]) /batch_size\n",
        "\n",
        "  return gradient_beta_0,gradient_beta_other\n"
      ],
      "metadata": {
        "id": "4eigathdZIMt"
      },
      "execution_count": 11,
      "outputs": []
    },
    {
      "cell_type": "code",
      "source": [
        "x = [\n",
        "    [2, 9],   # studied 2 hrs, slept 9 hrs\n",
        "    [1, 5],\n",
        "    [3, 6],\n",
        "    [4, 8],\n",
        "    [5, 1],\n",
        "    [6, 2]\n",
        "]\n",
        "\n",
        "y = [1, 0, 1, 1, 0, 0]  # 1: passed, 0: failed\n",
        "\n",
        "x = np.array(x)\n",
        "y = np.array(y)\n",
        "\n",
        "beta_0, beta_other = logistic_regression(x, y, iterations=1000, learning_rate=0.1)\n",
        "\n",
        "print(\"Intercept:\", beta_0)\n",
        "print(\"Coefficients:\", beta_other)"
      ],
      "metadata": {
        "colab": {
          "base_uri": "https://localhost:8080/"
        },
        "id": "qLCqf5NoYyNV",
        "outputId": "743edeb4-91a6-4813-a02b-b992b9f54ce4"
      },
      "execution_count": 7,
      "outputs": [
        {
          "output_type": "stream",
          "name": "stdout",
          "text": [
            "Intercept: -4.750711933882246\n",
            "Coefficients: [np.float64(0.10363129421390802), np.float64(0.8892885948914651)]\n"
          ]
        }
      ]
    },
    {
      "cell_type": "code",
      "source": [
        "# Make predictions\n",
        "def predict(x, beta_0, beta_other):\n",
        "    return [1 if logistic_function(row, beta_0, beta_other) >= 0.5 else 0 for row in x]\n",
        "\n",
        "print(\"Predictions:\", predict(x, beta_0, beta_other))\n",
        "print(\"Actual:     \", y.tolist())"
      ],
      "metadata": {
        "colab": {
          "base_uri": "https://localhost:8080/"
        },
        "id": "q-EdtKaaYzWb",
        "outputId": "3603ef63-8daf-486e-ea7a-b4ffea587325"
      },
      "execution_count": 8,
      "outputs": [
        {
          "output_type": "stream",
          "name": "stdout",
          "text": [
            "Predictions: [1, 0, 1, 1, 0, 0]\n",
            "Actual:      [1, 0, 1, 1, 0, 0]\n"
          ]
        }
      ]
    }
  ]
}