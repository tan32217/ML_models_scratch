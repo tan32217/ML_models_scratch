{
  "nbformat": 4,
  "nbformat_minor": 0,
  "metadata": {
    "colab": {
      "provenance": []
    },
    "kernelspec": {
      "name": "python3",
      "display_name": "Python 3"
    },
    "language_info": {
      "name": "python"
    }
  },
  "cells": [
    {
      "cell_type": "code",
      "source": [
        "from collections import Counter"
      ],
      "metadata": {
        "id": "Pe6Qn4h1Xzoy"
      },
      "execution_count": 4,
      "outputs": []
    },
    {
      "cell_type": "code",
      "execution_count": 5,
      "metadata": {
        "id": "On2ES8MOTaBx"
      },
      "outputs": [],
      "source": [
        "class KNN:\n",
        "  def __init__(self):\n",
        "    self.x = None\n",
        "    self.y = None\n",
        "\n",
        "  def train(self,x,y):\n",
        "    self.x = x\n",
        "    self.y = y\n",
        "  # type specifies whethwer task is regression or classification value ->0 regression, 1-> classification\n",
        "  def predict(self,x,k,ptype = 0):\n",
        "    distance_label = [(self.distance(x,train_point),train_label) for train_point,train_label in zip(self.x,self.y)]\n",
        "    neighbours = sorted(distance_label)[:k]\n",
        "\n",
        "    if ptype == 0:\n",
        "      return sum(label for _,label in neighbours)/k\n",
        "    elif ptype == 1:\n",
        "      neighbour_labels = [label for dist,label in neighbours]\n",
        "      return Counter(neighbour_labels).most_common(1)[0][0]\n",
        "    else:\n",
        "      print(\"enter correct type for classification or regression\")\n",
        "      return None\n",
        "\n",
        "  def distance(self,point1,point2):\n",
        "    return ((point1[0]-point2[0])**2 + (point1[1]-point2[1])**2)**0.5"
      ]
    },
    {
      "cell_type": "code",
      "source": [
        "X_train_reg = [[1, 2], [2, 3], [3, 4], [5, 5]]\n",
        "y_train_reg = [2.0, 2.5, 3.5, 5.0]\n",
        "model = KNN()\n",
        "model.train(X_train_reg, y_train_reg)\n",
        "\n",
        "x_test_reg = [3, 3]\n",
        "print(\"Regression Prediction:\", model.predict(x_test_reg, k=3, ptype=0))\n",
        "\n"
      ],
      "metadata": {
        "colab": {
          "base_uri": "https://localhost:8080/"
        },
        "id": "3tsfnToPZmtN",
        "outputId": "d1ab6766-ccc1-4ae4-8f30-1faef62149a0"
      },
      "execution_count": 6,
      "outputs": [
        {
          "output_type": "stream",
          "name": "stdout",
          "text": [
            "Regression Prediction: 2.6666666666666665\n"
          ]
        }
      ]
    },
    {
      "cell_type": "code",
      "source": [
        "# ========== CLASSIFICATION EXAMPLE ==========\n",
        "# Predict the class (0 or 1)\n",
        "X_train_cls = [[1, 2], [2, 3], [3, 4], [5, 5]]\n",
        "y_train_cls = [0, 0, 1, 1]\n",
        "\n",
        "model.train(X_train_cls, y_train_cls)\n",
        "\n",
        "x_test_cls = [3, 3]\n",
        "print(\"Classification Prediction:\", model.predict(x_test_cls, k=3, ptype=1))\n"
      ],
      "metadata": {
        "colab": {
          "base_uri": "https://localhost:8080/"
        },
        "id": "p9iIP58gZqE1",
        "outputId": "b2eae241-70c4-4ab9-8fe5-9d1335a213c5"
      },
      "execution_count": 7,
      "outputs": [
        {
          "output_type": "stream",
          "name": "stdout",
          "text": [
            "Classification Prediction: 0\n"
          ]
        }
      ]
    },
    {
      "cell_type": "code",
      "source": [],
      "metadata": {
        "id": "MxGFgI3rZvBl"
      },
      "execution_count": null,
      "outputs": []
    }
  ]
}