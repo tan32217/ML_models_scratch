{
  "nbformat": 4,
  "nbformat_minor": 0,
  "metadata": {
    "colab": {
      "provenance": []
    },
    "kernelspec": {
      "name": "python3",
      "display_name": "Python 3"
    },
    "language_info": {
      "name": "python"
    }
  },
  "cells": [
    {
      "cell_type": "code",
      "execution_count": 6,
      "metadata": {
        "id": "t5RIa7c0CuP0"
      },
      "outputs": [],
      "source": [
        "import random\n",
        "def linear_regression(x,y,learning_rate=0.01,iterations=100):\n",
        "  n,m = len(x[0]),len(x)\n",
        "\n",
        "  beta_0, beta_other = initialize_params(n)\n",
        "\n",
        "  for _ in range(iterations):\n",
        "    gradient_beta_0, gradient_beta_other = compute_gradient(x,y,beta_0,beta_other,n,m)\n",
        "\n",
        "    beta_0,beta_other = update_params(beta_0,beta_other,gradient_beta_0,gradient_beta_other,learning_rate)\n",
        "\n",
        "  return beta_0,beta_other\n",
        "\n",
        "\n",
        "def initialize_params(dimentions):\n",
        "  beta_0 = 0\n",
        "  beta_other = [random.random() for _ in range(dimentions)]\n",
        "\n",
        "  return beta_0, beta_other\n",
        "\n",
        "\n",
        "def compute_gradient(x,y,beta_0,beta_other,dimentions,m):\n",
        "  gradient_beta_0 = 0\n",
        "  gradient_beta_other = [0]*dimentions\n",
        "\n",
        "  for i in range(m):\n",
        "    y_i_hat = sum(x[i][j] * beta_other[j] for j in range(dimentions)) + beta_0\n",
        "    derror_dy = 2 *(y[i] - y_i_hat)\n",
        "\n",
        "    for j in range(dimentions):\n",
        "      gradient_beta_other[j] += derror_dy*x[i][j] / m\n",
        "    gradient_beta_0 += derror_dy/m\n",
        "\n",
        "  return gradient_beta_0,gradient_beta_other\n",
        "\n",
        "def update_params(beta_0,beta_other,gradient_beta_0,gradient_beta_other,learning_rate):\n",
        "  beta_0 += gradient_beta_0 * learning_rate\n",
        "  for i in range(len(beta_other)):\n",
        "    beta_other[i] += gradient_beta_other[i] * learning_rate\n",
        "\n",
        "  return beta_0, beta_other\n"
      ]
    },
    {
      "cell_type": "code",
      "source": [
        "# Sample data: [size, bedrooms]\n",
        "x = [\n",
        "    [2100, 3],\n",
        "    [1600, 2],\n",
        "    [2400, 4],\n",
        "    [1416, 2],\n",
        "    [3000, 4]\n",
        "]\n",
        "\n",
        "# Corresponding house prices\n",
        "y = [400, 330, 369, 232, 540]"
      ],
      "metadata": {
        "id": "QnsVJYxsGLL7"
      },
      "execution_count": 2,
      "outputs": []
    },
    {
      "cell_type": "code",
      "source": [
        "# Feature scaling\n",
        "def normalize_features(x):\n",
        "    import numpy as np\n",
        "    x_np = np.array(x)\n",
        "    mean = x_np.mean(axis=0)\n",
        "    std = x_np.std(axis=0)\n",
        "    return ((x_np - mean) / std).tolist()\n",
        "\n",
        "x_normalized = normalize_features(x)\n"
      ],
      "metadata": {
        "id": "c4qMLnSZGXml"
      },
      "execution_count": 4,
      "outputs": []
    },
    {
      "cell_type": "code",
      "source": [
        "beta_0, beta_other = linear_regression(x_normalized, y, learning_rate=0.01, iterations=1000)\n",
        "\n",
        "print(\"Intercept (beta_0):\", beta_0)\n",
        "print(\"Coefficients (beta_other):\", beta_other)\n"
      ],
      "metadata": {
        "colab": {
          "base_uri": "https://localhost:8080/"
        },
        "id": "iW0ik9wfGQng",
        "outputId": "43ad114d-103d-4a32-b3eb-b341290b2eab"
      },
      "execution_count": 7,
      "outputs": [
        {
          "output_type": "stream",
          "name": "stdout",
          "text": [
            "Intercept (beta_0): 374.1999993702335\n",
            "Coefficients (beta_other): [136.95365728914172, -48.43322158788858]\n"
          ]
        }
      ]
    },
    {
      "cell_type": "code",
      "source": [
        "def predict(x, beta_0, beta_other):\n",
        "    return [sum(x[i][j] * beta_other[j] for j in range(len(beta_other))) + beta_0 for i in range(len(x))]\n",
        "\n",
        "predictions = predict(x_normalized, beta_0, beta_other)\n",
        "print(\"Predicted Prices:\", predictions)\n",
        "print(\"Actual Prices:   \", y)\n"
      ],
      "metadata": {
        "colab": {
          "base_uri": "https://localhost:8080/"
        },
        "id": "21rGprvOGUw8",
        "outputId": "b80695db-5bc9-404d-d401-840642e147e1"
      },
      "execution_count": 8,
      "outputs": [
        {
          "output_type": "stream",
          "name": "stdout",
          "text": [
            "Predicted Prices: [373.4295474266629, 307.19641916366635, 391.50942921649505, 262.8954324083551, 535.9691686359884]\n",
            "Actual Prices:    [400, 330, 369, 232, 540]\n"
          ]
        }
      ]
    },
    {
      "cell_type": "code",
      "source": [],
      "metadata": {
        "id": "zKD5uCWOGcbA"
      },
      "execution_count": null,
      "outputs": []
    }
  ]
}